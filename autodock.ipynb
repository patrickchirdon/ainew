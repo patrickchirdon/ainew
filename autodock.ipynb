{
 "cells": [
  {
   "cell_type": "code",
   "execution_count": null,
   "metadata": {},
   "outputs": [
    {
     "name": "stdout",
     "output_type": "stream",
     "text": [
      "dyld: Library not loaded: /usr/local/opt/openssl/lib/libssl.1.0.0.dylib\n",
      "  Referenced from: /usr/local/bin/wget\n",
      "  Reason: image not found\n",
      "grep: 6LU7.pdb: No such file or directory\n",
      " PyMOL(TM) 2.2.0 - Incentive Product\n",
      " Copyright (C) Schrodinger, LLC\n",
      " \n",
      " This Executable Build integrates and extends Open-Source PyMOL.\n",
      " Detected 4 CPU cores.  Enabled multithreaded rendering.\n",
      " CmdLoad: PDB-string loaded into object \"R\", state 1.\n",
      "PyMOL>remove resn HOH;h_add acceptors or donors;save temp.pdb\n",
      " Save: wrote \"temp.pdb\".\n",
      "0 molecules converted\n",
      "2 audit log messages \n",
      "==============================\n",
      "*** Open Babel Warning  in CheckForUnintendedBatch\n",
      "  This was a batch operation. For splitting, use non-empty base name for the output files\n"
     ]
    }
   ],
   "source": [
    "from rdkit import Chem\n",
    "from rdkit.Chem import Draw\n",
    "!wget -nc https://files.rcsb.org/download/6LU7.pdb\n",
    "\n",
    "# http://www.rcsb.org/bird/PRD_002214; did not find it in ZINC\n",
    "!echo \"CC(C)C[C@H](NC(=O)[C@@H](NC(=O)[C@H](C)NC(=O)c1cc(C)on1)C(C)C)C(=O)N[C@@H](C[C@@H]2CCNC2=O)\\C=C/C(=O)OCc3ccccc3 PRD_002214\" > cov_inhibitor.smi\n",
    "m = Chem.MolFromSmiles('CC(C)C[C@H](NC(=O)[C@@H](NC(=O)[C@H](C)NC(=O)c1cc(C)on1)C(C)C)C(=O)N[C@@H](C[C@@H]2CCNC2=O)\\C=C/C(=O)OCc3ccccc3 PRD_002214')\n",
    "Draw.MolsToImage([m])\n",
    "\n",
    "# Source: https://github.com/sarisabban/Notes/blob/master/AutoDock.py\n",
    "'''\n",
    "Prepares the receptor by first removing all the water molecules from\n",
    "the protein's structure, then adds only the polar hydrogens, then\n",
    "it exports the resulting structure and converts it to a .pdbqt file.\n",
    "'''\n",
    "'''\n",
    "While this seems bit weird, it is as presented in the video tutorial...\n",
    "It may take quite some time.\n",
    "'''\n",
    "!grep ATOM 6LU7.pdb > R.pdb\n",
    "!./PyMOL.app/Contents/bin/pymol R.pdb -c -d \"remove resn HOH;h_add acceptors or donors;save temp.pdb\"\n",
    "!babel temp.pdb temp.pdbqt -xh\n",
    "!grep ATOM temp.pdbqt > cov_receptor.pdbqt\n",
    "\n",
    "!obabel cov_inhibitor.smi -opdbqt -m --gen3d best -p -xh\n",
    "\n",
    "!vina --receptor cov_receptor.pdbqt --ligand cov_inhibitor.pdbqt --out cov_out.pdbqt --log ligand.log --exhaustiveness 2 --center_x -10 --center_y 15 --center_z 70 --size_x 10 --size_y 20 --size_z 20"
   ]
  },
  {
   "cell_type": "code",
   "execution_count": null,
   "metadata": {},
   "outputs": [],
   "source": []
  }
 ],
 "metadata": {
  "kernelspec": {
   "display_name": "Python 3",
   "language": "python",
   "name": "python3"
  },
  "language_info": {
   "codemirror_mode": {
    "name": "ipython",
    "version": 3
   },
   "file_extension": ".py",
   "mimetype": "text/x-python",
   "name": "python",
   "nbconvert_exporter": "python",
   "pygments_lexer": "ipython3",
   "version": "3.6.5"
  }
 },
 "nbformat": 4,
 "nbformat_minor": 2
}
